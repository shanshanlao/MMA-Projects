{
 "cells": [
  {
   "cell_type": "code",
   "execution_count": 362,
   "metadata": {},
   "outputs": [],
   "source": [
    "# Loading libraries\n",
    "import pandas as pd\n",
    "import numpy as np\n",
    "from matplotlib import pyplot"
   ]
  },
  {
   "cell_type": "code",
   "execution_count": 363,
   "metadata": {},
   "outputs": [],
   "source": [
    "# Import the dataset\n",
    "kickstarter = pd.read_excel('Kickstarter.xlsx')"
   ]
  },
  {
   "cell_type": "code",
   "execution_count": 364,
   "metadata": {},
   "outputs": [
    {
     "name": "stderr",
     "output_type": "stream",
     "text": [
      "C:\\Users\\shans\\AppData\\Local\\Temp\\ipykernel_21916\\2678655226.py:5: SettingWithCopyWarning: \n",
      "A value is trying to be set on a copy of a slice from a DataFrame.\n",
      "Try using .loc[row_indexer,col_indexer] = value instead\n",
      "\n",
      "See the caveats in the documentation: https://pandas.pydata.org/pandas-docs/stable/user_guide/indexing.html#returning-a-view-versus-a-copy\n",
      "  df['state'] = df['state'].replace(['successful','failed'],[1,0])\n"
     ]
    },
    {
     "data": {
      "text/html": [
       "<div>\n",
       "<style scoped>\n",
       "    .dataframe tbody tr th:only-of-type {\n",
       "        vertical-align: middle;\n",
       "    }\n",
       "\n",
       "    .dataframe tbody tr th {\n",
       "        vertical-align: top;\n",
       "    }\n",
       "\n",
       "    .dataframe thead th {\n",
       "        text-align: right;\n",
       "    }\n",
       "</style>\n",
       "<table border=\"1\" class=\"dataframe\">\n",
       "  <thead>\n",
       "    <tr style=\"text-align: right;\">\n",
       "      <th></th>\n",
       "      <th>id</th>\n",
       "      <th>name</th>\n",
       "      <th>goal</th>\n",
       "      <th>pledged</th>\n",
       "      <th>state</th>\n",
       "      <th>disable_communication</th>\n",
       "      <th>country</th>\n",
       "      <th>currency</th>\n",
       "      <th>deadline</th>\n",
       "      <th>state_changed_at</th>\n",
       "      <th>...</th>\n",
       "      <th>created_at_day</th>\n",
       "      <th>created_at_yr</th>\n",
       "      <th>created_at_hr</th>\n",
       "      <th>launched_at_month</th>\n",
       "      <th>launched_at_day</th>\n",
       "      <th>launched_at_yr</th>\n",
       "      <th>launched_at_hr</th>\n",
       "      <th>create_to_launch_days</th>\n",
       "      <th>launch_to_deadline_days</th>\n",
       "      <th>launch_to_state_change_days</th>\n",
       "    </tr>\n",
       "  </thead>\n",
       "  <tbody>\n",
       "    <tr>\n",
       "      <th>0</th>\n",
       "      <td>1601563193</td>\n",
       "      <td>Our future</td>\n",
       "      <td>100000000.0</td>\n",
       "      <td>1.00</td>\n",
       "      <td>0</td>\n",
       "      <td>False</td>\n",
       "      <td>AU</td>\n",
       "      <td>AUD</td>\n",
       "      <td>2014-10-07 12:05:39</td>\n",
       "      <td>2014-10-07 12:05:39</td>\n",
       "      <td>...</td>\n",
       "      <td>1</td>\n",
       "      <td>2014</td>\n",
       "      <td>21</td>\n",
       "      <td>8</td>\n",
       "      <td>8</td>\n",
       "      <td>2014</td>\n",
       "      <td>12</td>\n",
       "      <td>6</td>\n",
       "      <td>60</td>\n",
       "      <td>60</td>\n",
       "    </tr>\n",
       "    <tr>\n",
       "      <th>1</th>\n",
       "      <td>880009511</td>\n",
       "      <td>Elite: Dangerous</td>\n",
       "      <td>1250000.0</td>\n",
       "      <td>1578316.08</td>\n",
       "      <td>1</td>\n",
       "      <td>False</td>\n",
       "      <td>GB</td>\n",
       "      <td>GBP</td>\n",
       "      <td>2013-01-04 18:00:57</td>\n",
       "      <td>2013-01-04 18:00:57</td>\n",
       "      <td>...</td>\n",
       "      <td>31</td>\n",
       "      <td>2012</td>\n",
       "      <td>11</td>\n",
       "      <td>11</td>\n",
       "      <td>5</td>\n",
       "      <td>2012</td>\n",
       "      <td>18</td>\n",
       "      <td>5</td>\n",
       "      <td>60</td>\n",
       "      <td>60</td>\n",
       "    </tr>\n",
       "    <tr>\n",
       "      <th>4</th>\n",
       "      <td>557230947</td>\n",
       "      <td>Bring Reading Rainbow Back for Every Child, Ev...</td>\n",
       "      <td>1000000.0</td>\n",
       "      <td>5408916.95</td>\n",
       "      <td>1</td>\n",
       "      <td>False</td>\n",
       "      <td>US</td>\n",
       "      <td>USD</td>\n",
       "      <td>2014-07-02 14:00:00</td>\n",
       "      <td>2014-07-02 14:00:11</td>\n",
       "      <td>...</td>\n",
       "      <td>22</td>\n",
       "      <td>2014</td>\n",
       "      <td>22</td>\n",
       "      <td>5</td>\n",
       "      <td>28</td>\n",
       "      <td>2014</td>\n",
       "      <td>8</td>\n",
       "      <td>35</td>\n",
       "      <td>35</td>\n",
       "      <td>35</td>\n",
       "    </tr>\n",
       "    <tr>\n",
       "      <th>5</th>\n",
       "      <td>1966069095</td>\n",
       "      <td>ARKYD: A Space Telescope for Everyone</td>\n",
       "      <td>1000000.0</td>\n",
       "      <td>1505366.60</td>\n",
       "      <td>1</td>\n",
       "      <td>False</td>\n",
       "      <td>US</td>\n",
       "      <td>USD</td>\n",
       "      <td>2013-06-30 21:00:00</td>\n",
       "      <td>2013-06-30 21:00:34</td>\n",
       "      <td>...</td>\n",
       "      <td>10</td>\n",
       "      <td>2012</td>\n",
       "      <td>17</td>\n",
       "      <td>5</td>\n",
       "      <td>29</td>\n",
       "      <td>2013</td>\n",
       "      <td>10</td>\n",
       "      <td>322</td>\n",
       "      <td>32</td>\n",
       "      <td>32</td>\n",
       "    </tr>\n",
       "    <tr>\n",
       "      <th>6</th>\n",
       "      <td>2083255961</td>\n",
       "      <td>A Billion Pixels...</td>\n",
       "      <td>100000000.0</td>\n",
       "      <td>56.00</td>\n",
       "      <td>0</td>\n",
       "      <td>False</td>\n",
       "      <td>US</td>\n",
       "      <td>USD</td>\n",
       "      <td>2014-08-04 16:39:34</td>\n",
       "      <td>2014-08-04 16:39:34</td>\n",
       "      <td>...</td>\n",
       "      <td>1</td>\n",
       "      <td>2014</td>\n",
       "      <td>16</td>\n",
       "      <td>6</td>\n",
       "      <td>5</td>\n",
       "      <td>2014</td>\n",
       "      <td>16</td>\n",
       "      <td>34</td>\n",
       "      <td>60</td>\n",
       "      <td>60</td>\n",
       "    </tr>\n",
       "  </tbody>\n",
       "</table>\n",
       "<p>5 rows × 45 columns</p>\n",
       "</div>"
      ],
      "text/plain": [
       "           id                                               name         goal  \\\n",
       "0  1601563193                                         Our future  100000000.0   \n",
       "1   880009511                                   Elite: Dangerous    1250000.0   \n",
       "4   557230947  Bring Reading Rainbow Back for Every Child, Ev...    1000000.0   \n",
       "5  1966069095              ARKYD: A Space Telescope for Everyone    1000000.0   \n",
       "6  2083255961                                A Billion Pixels...  100000000.0   \n",
       "\n",
       "      pledged  state  disable_communication country currency  \\\n",
       "0        1.00      0                  False      AU      AUD   \n",
       "1  1578316.08      1                  False      GB      GBP   \n",
       "4  5408916.95      1                  False      US      USD   \n",
       "5  1505366.60      1                  False      US      USD   \n",
       "6       56.00      0                  False      US      USD   \n",
       "\n",
       "             deadline    state_changed_at  ... created_at_day created_at_yr  \\\n",
       "0 2014-10-07 12:05:39 2014-10-07 12:05:39  ...              1          2014   \n",
       "1 2013-01-04 18:00:57 2013-01-04 18:00:57  ...             31          2012   \n",
       "4 2014-07-02 14:00:00 2014-07-02 14:00:11  ...             22          2014   \n",
       "5 2013-06-30 21:00:00 2013-06-30 21:00:34  ...             10          2012   \n",
       "6 2014-08-04 16:39:34 2014-08-04 16:39:34  ...              1          2014   \n",
       "\n",
       "   created_at_hr  launched_at_month  launched_at_day  launched_at_yr  \\\n",
       "0             21                  8                8            2014   \n",
       "1             11                 11                5            2012   \n",
       "4             22                  5               28            2014   \n",
       "5             17                  5               29            2013   \n",
       "6             16                  6                5            2014   \n",
       "\n",
       "  launched_at_hr  create_to_launch_days  launch_to_deadline_days  \\\n",
       "0             12                      6                       60   \n",
       "1             18                      5                       60   \n",
       "4              8                     35                       35   \n",
       "5             10                    322                       32   \n",
       "6             16                     34                       60   \n",
       "\n",
       "   launch_to_state_change_days  \n",
       "0                           60  \n",
       "1                           60  \n",
       "4                           35  \n",
       "5                           32  \n",
       "6                           60  \n",
       "\n",
       "[5 rows x 45 columns]"
      ]
     },
     "execution_count": 364,
     "metadata": {},
     "output_type": "execute_result"
    }
   ],
   "source": [
    "# For the purpose of this project, we only need to include projects with \"successful\" or \"failure\" state\n",
    "df = kickstarter[kickstarter['state'].isin(['successful','failed'])]\n",
    "\n",
    "# Convert the target variable to binary\n",
    "df['state'] = df['state'].replace(['successful','failed'],[1,0])\n",
    "\n",
    "df.head()"
   ]
  },
  {
   "cell_type": "markdown",
   "metadata": {},
   "source": [
    "# 1. Data Preprocessing"
   ]
  },
  {
   "cell_type": "code",
   "execution_count": null,
   "metadata": {},
   "outputs": [],
   "source": [
    "# Understand the data type of each column\n",
    "df.dtypes"
   ]
  },
  {
   "cell_type": "markdown",
   "metadata": {},
   "source": [
    "Clustering algorithms do not work well with categorical variable (either binary or multi-class), especially K-Means.\n",
    "\n",
    "We should consider removing all categorical variables, including: \n",
    "- datetime and those sub-columns\n",
    "- category\n",
    "- currency and static_usd_rate"
   ]
  },
  {
   "cell_type": "code",
   "execution_count": null,
   "metadata": {},
   "outputs": [],
   "source": [
    "df.columns"
   ]
  },
  {
   "cell_type": "code",
   "execution_count": 365,
   "metadata": {},
   "outputs": [],
   "source": [
    "# Select only numeric values\n",
    "df = df[['goal', 'pledged', 'backers_count', 'state',\n",
    "       'usd_pledged', 'name_len', 'name_len_clean',\n",
    "       'blurb_len', 'blurb_len_clean', \n",
    "       'create_to_launch_days', 'launch_to_deadline_days',\n",
    "       'launch_to_state_change_days']]"
   ]
  },
  {
   "cell_type": "markdown",
   "metadata": {},
   "source": [
    "Check if there is any collinearity between variables"
   ]
  },
  {
   "cell_type": "code",
   "execution_count": null,
   "metadata": {},
   "outputs": [],
   "source": [
    "import seaborn as sns\n",
    "import matplotlib.pyplot as plt\n",
    "\n",
    "plt.figure(figsize=(26, 6))\n",
    "heatmap = sns.heatmap(df.corr(), vmin=-1, vmax=1, annot=True, cmap='BrBG')\n",
    "heatmap.set_title('Correlation Heatmap', fontdict={'fontsize':18}, pad=12);\n",
    "plt.savefig('heatmap_clustering.png', dpi=300, bbox_inches='tight')"
   ]
  },
  {
   "cell_type": "markdown",
   "metadata": {},
   "source": [
    "According to the correlation heatmap, following varaibles have high correlation (>0.75):\n",
    "- usd_pledged and pledged,\n",
    "- pledged and backers_count,\n",
    "- name_len and name_len_clean, \n",
    "- blurb_len and blurb_len_clean,\n",
    "- launch_to_deadline_days and launch_to_state_change_days\n",
    "\n",
    "For each pair, we only need to keep one of them."
   ]
  },
  {
   "cell_type": "code",
   "execution_count": 366,
   "metadata": {},
   "outputs": [
    {
     "data": {
      "text/plain": [
       "Index(['goal', 'pledged', 'state', 'name_len', 'blurb_len',\n",
       "       'create_to_launch_days', 'launch_to_deadline_days'],\n",
       "      dtype='object')"
      ]
     },
     "execution_count": 366,
     "metadata": {},
     "output_type": "execute_result"
    }
   ],
   "source": [
    "df = df.drop(columns = ['usd_pledged','name_len_clean','launch_to_state_change_days', 'backers_count', 'blurb_len_clean'])\n",
    "df.columns"
   ]
  },
  {
   "cell_type": "markdown",
   "metadata": {},
   "source": [
    "# 2. Define Clusters Measurement"
   ]
  },
  {
   "cell_type": "code",
   "execution_count": 367,
   "metadata": {},
   "outputs": [],
   "source": [
    "from sklearn.metrics import silhouette_samples\n",
    "\n",
    "newdf = df\n",
    "def cal_silhouette(labels):\n",
    "    silhouette = silhouette_samples(X_std, labels)\n",
    "         # silhouette score for each indiviual data points, > 0.5 is strong\n",
    "    newdf['labels'] = labels\n",
    "    newdf['silhouette'] = silhouette\n",
    "\n",
    "    K = len(np.unique(labels))\n",
    "    print('Average Silhouette Score for each cluster:')\n",
    "    for i in range(K):\n",
    "        print(i,'=',np.average(newdf[newdf['labels'] == i].silhouette))\n"
   ]
  },
  {
   "cell_type": "markdown",
   "metadata": {},
   "source": [
    "# 3. Clustering Analysis"
   ]
  },
  {
   "cell_type": "code",
   "execution_count": 368,
   "metadata": {},
   "outputs": [],
   "source": [
    "X = df #[['goal','pledged']]\n",
    "\n",
    "from sklearn.preprocessing import StandardScaler\n",
    "scaler = StandardScaler()\n",
    "X_std = scaler.fit_transform(X)"
   ]
  },
  {
   "cell_type": "markdown",
   "metadata": {},
   "source": [
    "## 3.1 K-Means Clustering"
   ]
  },
  {
   "cell_type": "markdown",
   "metadata": {},
   "source": [
    "### 3.1.1 Find the optimal K"
   ]
  },
  {
   "cell_type": "code",
   "execution_count": 369,
   "metadata": {},
   "outputs": [
    {
     "data": {
      "text/plain": [
       "[<matplotlib.lines.Line2D at 0x1b0a0dbeaa0>]"
      ]
     },
     "execution_count": 369,
     "metadata": {},
     "output_type": "execute_result"
    },
    {
     "data": {
      "image/png": "[encoded data removed]",
      "text/plain": [
       "<Figure size 640x480 with 1 Axes>"
      ]
     },
     "metadata": {},
     "output_type": "display_data"
    }
   ],
   "source": [
    "# Calculate inertia for each number of clusters in kmeans\n",
    "from sklearn.cluster import KMeans\n",
    "\n",
    "withinss = []\n",
    "for i in range(2,20):\n",
    "    kmeans = KMeans(n_clusters=i)\n",
    "    model = kmeans.fit(X_std)\n",
    "    withinss.append(model.inertia_)\n",
    "\n",
    "from matplotlib import pyplot\n",
    "pyplot.plot([2,3,4,5,6,7,8,9,10,11,12,13,14,15,16,17,18,19],withinss)"
   ]
  },
  {
   "cell_type": "markdown",
   "metadata": {},
   "source": [
    "### 3.1.2 Run the model with optimal K"
   ]
  },
  {
   "cell_type": "code",
   "execution_count": 370,
   "metadata": {},
   "outputs": [],
   "source": [
    "K = 8"
   ]
  },
  {
   "cell_type": "code",
   "execution_count": 371,
   "metadata": {},
   "outputs": [
    {
     "name": "stdout",
     "output_type": "stream",
     "text": [
      "0 3780\n",
      "1 3153\n",
      "2 5\n",
      "3 441\n",
      "4 1691\n",
      "5 51\n",
      "6 2785\n",
      "7 1529\n"
     ]
    }
   ],
   "source": [
    "from sklearn.cluster import KMeans\n",
    "\n",
    "kmeans = KMeans(n_clusters=K)\n",
    "model_km = kmeans.fit(X_std)\n",
    "labels_km = model_km.predict(X_std)\n",
    "\n",
    "for i in range(K):\n",
    "    print(i, (labels_km == i).sum())"
   ]
  },
  {
   "cell_type": "code",
   "execution_count": null,
   "metadata": {},
   "outputs": [],
   "source": [
    "cal_silhouette(labels_km)"
   ]
  },
  {
   "cell_type": "code",
   "execution_count": null,
   "metadata": {},
   "outputs": [],
   "source": [
    "X.columns"
   ]
  },
  {
   "cell_type": "code",
   "execution_count": 373,
   "metadata": {},
   "outputs": [
    {
     "data": {
      "text/html": [
       "<div>\n",
       "<style scoped>\n",
       "    .dataframe tbody tr th:only-of-type {\n",
       "        vertical-align: middle;\n",
       "    }\n",
       "\n",
       "    .dataframe tbody tr th {\n",
       "        vertical-align: top;\n",
       "    }\n",
       "\n",
       "    .dataframe thead th {\n",
       "        text-align: right;\n",
       "    }\n",
       "</style>\n",
       "<table border=\"1\" class=\"dataframe\">\n",
       "  <thead>\n",
       "    <tr style=\"text-align: right;\">\n",
       "      <th></th>\n",
       "      <th>goal</th>\n",
       "      <th>pledged</th>\n",
       "      <th>state</th>\n",
       "      <th>name_len</th>\n",
       "      <th>blurb_len</th>\n",
       "      <th>create_to_launch_days</th>\n",
       "      <th>launch_to_deadline_days</th>\n",
       "    </tr>\n",
       "  </thead>\n",
       "  <tbody>\n",
       "    <tr>\n",
       "      <th>0</th>\n",
       "      <td>1.929692e+04</td>\n",
       "      <td>4.464361e+04</td>\n",
       "      <td>1.000000e+00</td>\n",
       "      <td>6.623246</td>\n",
       "      <td>19.924279</td>\n",
       "      <td>35.567117</td>\n",
       "      <td>30.364575</td>\n",
       "    </tr>\n",
       "    <tr>\n",
       "      <th>1</th>\n",
       "      <td>6.783847e+04</td>\n",
       "      <td>3.993840e+03</td>\n",
       "      <td>8.881784e-16</td>\n",
       "      <td>8.087853</td>\n",
       "      <td>20.481763</td>\n",
       "      <td>34.773549</td>\n",
       "      <td>30.701554</td>\n",
       "    </tr>\n",
       "    <tr>\n",
       "      <th>2</th>\n",
       "      <td>7.100000e+07</td>\n",
       "      <td>2.540000e+01</td>\n",
       "      <td>-5.551115e-17</td>\n",
       "      <td>3.800000</td>\n",
       "      <td>17.400000</td>\n",
       "      <td>8.600000</td>\n",
       "      <td>44.800000</td>\n",
       "    </tr>\n",
       "    <tr>\n",
       "      <th>3</th>\n",
       "      <td>5.666484e+04</td>\n",
       "      <td>2.410209e+04</td>\n",
       "      <td>3.197279e-01</td>\n",
       "      <td>6.455782</td>\n",
       "      <td>18.766440</td>\n",
       "      <td>483.503401</td>\n",
       "      <td>35.548753</td>\n",
       "    </tr>\n",
       "    <tr>\n",
       "      <th>4</th>\n",
       "      <td>1.876903e+05</td>\n",
       "      <td>7.990193e+03</td>\n",
       "      <td>1.566194e-01</td>\n",
       "      <td>5.457447</td>\n",
       "      <td>19.911348</td>\n",
       "      <td>29.750000</td>\n",
       "      <td>58.442080</td>\n",
       "    </tr>\n",
       "    <tr>\n",
       "      <th>5</th>\n",
       "      <td>2.174689e+05</td>\n",
       "      <td>1.439677e+06</td>\n",
       "      <td>1.000000e+00</td>\n",
       "      <td>6.960784</td>\n",
       "      <td>19.254902</td>\n",
       "      <td>65.431373</td>\n",
       "      <td>40.666667</td>\n",
       "    </tr>\n",
       "    <tr>\n",
       "      <th>6</th>\n",
       "      <td>6.807163e+04</td>\n",
       "      <td>1.427465e+03</td>\n",
       "      <td>-4.996004e-16</td>\n",
       "      <td>3.081867</td>\n",
       "      <td>20.628366</td>\n",
       "      <td>24.597127</td>\n",
       "      <td>30.035189</td>\n",
       "    </tr>\n",
       "    <tr>\n",
       "      <th>7</th>\n",
       "      <td>5.521680e+04</td>\n",
       "      <td>7.428131e+03</td>\n",
       "      <td>2.227302e-01</td>\n",
       "      <td>4.198563</td>\n",
       "      <td>10.298498</td>\n",
       "      <td>31.751796</td>\n",
       "      <td>33.163292</td>\n",
       "    </tr>\n",
       "    <tr>\n",
       "      <th>Mean</th>\n",
       "      <td>9.449554e+04</td>\n",
       "      <td>2.189293e+04</td>\n",
       "      <td>3.405285e-01</td>\n",
       "      <td>5.804466</td>\n",
       "      <td>19.061035</td>\n",
       "      <td>46.746185</td>\n",
       "      <td>34.445032</td>\n",
       "    </tr>\n",
       "  </tbody>\n",
       "</table>\n",
       "</div>"
      ],
      "text/plain": [
       "              goal       pledged         state  name_len  blurb_len  \\\n",
       "0     1.929692e+04  4.464361e+04  1.000000e+00  6.623246  19.924279   \n",
       "1     6.783847e+04  3.993840e+03  8.881784e-16  8.087853  20.481763   \n",
       "2     7.100000e+07  2.540000e+01 -5.551115e-17  3.800000  17.400000   \n",
       "3     5.666484e+04  2.410209e+04  3.197279e-01  6.455782  18.766440   \n",
       "4     1.876903e+05  7.990193e+03  1.566194e-01  5.457447  19.911348   \n",
       "5     2.174689e+05  1.439677e+06  1.000000e+00  6.960784  19.254902   \n",
       "6     6.807163e+04  1.427465e+03 -4.996004e-16  3.081867  20.628366   \n",
       "7     5.521680e+04  7.428131e+03  2.227302e-01  4.198563  10.298498   \n",
       "Mean  9.449554e+04  2.189293e+04  3.405285e-01  5.804466  19.061035   \n",
       "\n",
       "      create_to_launch_days  launch_to_deadline_days  \n",
       "0                 35.567117                30.364575  \n",
       "1                 34.773549                30.701554  \n",
       "2                  8.600000                44.800000  \n",
       "3                483.503401                35.548753  \n",
       "4                 29.750000                58.442080  \n",
       "5                 65.431373                40.666667  \n",
       "6                 24.597127                30.035189  \n",
       "7                 31.751796                33.163292  \n",
       "Mean              46.746185                34.445032  "
      ]
     },
     "execution_count": 373,
     "metadata": {},
     "output_type": "execute_result"
    }
   ],
   "source": [
    "cluster_df = pd.DataFrame(scaler.inverse_transform(model_km.cluster_centers_), columns = X.columns)\n",
    "cluster_df.loc['Mean'] = X.mean().to_numpy() #np.mean(X_std, axis=0)\n",
    "\n",
    "cluster_df"
   ]
  },
  {
   "cell_type": "markdown",
   "metadata": {},
   "source": [
    "## 3.2. Agglomerative Approach"
   ]
  },
  {
   "cell_type": "code",
   "execution_count": null,
   "metadata": {},
   "outputs": [],
   "source": [
    "from sklearn.cluster import AgglomerativeClustering\n",
    "\n",
    "def quick_agg(linkage): \n",
    "    model = AgglomerativeClustering(n_clusters=K,affinity='euclidean',linkage=linkage)\n",
    "    model.fit_predict(X_std)\n",
    "    labels = model.labels_\n",
    "\n",
    "    print('\\nLinkage = ', linkage)\n",
    "    for i in range(K):\n",
    "        print(i, (model.labels_ == i).sum())\n",
    "    \n",
    "    return labels, model.cluster_centers_"
   ]
  },
  {
   "cell_type": "code",
   "execution_count": null,
   "metadata": {},
   "outputs": [],
   "source": [
    "labels_complete = quick_agg('complete')\n",
    "labels_single = quick_agg('single')\n",
    "labels_average = quick_agg('average')"
   ]
  },
  {
   "cell_type": "code",
   "execution_count": null,
   "metadata": {},
   "outputs": [],
   "source": [
    "cal_silhouette(labels_complete)\n",
    "cal_silhouette(labels_single)\n",
    "cal_silhouette(labels_average)"
   ]
  },
  {
   "cell_type": "markdown",
   "metadata": {},
   "source": [
    "## 3.3. DBSCAN"
   ]
  },
  {
   "cell_type": "code",
   "execution_count": null,
   "metadata": {},
   "outputs": [],
   "source": [
    "from sklearn.cluster import DBSCAN\n",
    "\n",
    "model_dbscan = DBSCAN(eps=2.5, min_samples=10)\n",
    "labels_dbscan = model_dbscan.fit_predict(df)\n",
    "\n",
    "np.unique(labels_dbscan)"
   ]
  },
  {
   "cell_type": "code",
   "execution_count": null,
   "metadata": {},
   "outputs": [],
   "source": [
    "K = len(np.unique(labels_dbscan))\n",
    "for i in range(K):\n",
    "    print(i, (model_average.labels_ == i).sum())"
   ]
  },
  {
   "cell_type": "code",
   "execution_count": null,
   "metadata": {},
   "outputs": [],
   "source": [
    "cal_silhouette(labels_dbscan)"
   ]
  },
  {
   "cell_type": "code",
   "execution_count": null,
   "metadata": {},
   "outputs": [],
   "source": []
  },
  {
   "cell_type": "code",
   "execution_count": null,
   "metadata": {},
   "outputs": [],
   "source": []
  }
 ],
 "metadata": {
  "kernelspec": {
   "display_name": "Python 3.10.8 64-bit (microsoft store)",
   "language": "python",
   "name": "python3"
  },
  "language_info": {
   "codemirror_mode": {
    "name": "ipython",
    "version": 3
   },
   "file_extension": ".py",
   "mimetype": "text/x-python",
   "name": "python",
   "nbconvert_exporter": "python",
   "pygments_lexer": "ipython3",
   "version": "3.10.8"
  },
  "orig_nbformat": 4,
  "vscode": {
   "interpreter": {
    "hash": "eb8d3085d426e5e8dee3252ffbadecffc2a8c816985f9d79249a1de42c265c0a"
   }
  }
 },
 "nbformat": 4,
 "nbformat_minor": 2
}
