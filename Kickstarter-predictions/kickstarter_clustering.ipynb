{
 "cells": [
  {
   "cell_type": "code",
   "execution_count": 64,
   "metadata": {},
   "outputs": [],
   "source": [
    "# Loading libraries\n",
    "import pandas as pd\n",
    "import numpy as np\n",
    "from matplotlib import pyplot"
   ]
  },
  {
   "cell_type": "code",
   "execution_count": 65,
   "metadata": {},
   "outputs": [],
   "source": [
    "# Import the dataset\n",
    "kickstarter = pd.read_excel('Kickstarter.xlsx')"
   ]
  },
  {
   "cell_type": "code",
   "execution_count": 77,
   "metadata": {},
   "outputs": [
    {
     "name": "stderr",
     "output_type": "stream",
     "text": [
      "C:\\Users\\shans\\AppData\\Local\\Temp\\ipykernel_21916\\2678655226.py:5: SettingWithCopyWarning: \n",
      "A value is trying to be set on a copy of a slice from a DataFrame.\n",
      "Try using .loc[row_indexer,col_indexer] = value instead\n",
      "\n",
      "See the caveats in the documentation: https://pandas.pydata.org/pandas-docs/stable/user_guide/indexing.html#returning-a-view-versus-a-copy\n",
      "  df['state'] = df['state'].replace(['successful','failed'],[1,0])\n"
     ]
    },
    {
     "data": {
      "text/html": [
       "<div>\n",
       "<style scoped>\n",
       "    .dataframe tbody tr th:only-of-type {\n",
       "        vertical-align: middle;\n",
       "    }\n",
       "\n",
       "    .dataframe tbody tr th {\n",
       "        vertical-align: top;\n",
       "    }\n",
       "\n",
       "    .dataframe thead th {\n",
       "        text-align: right;\n",
       "    }\n",
       "</style>\n",
       "<table border=\"1\" class=\"dataframe\">\n",
       "  <thead>\n",
       "    <tr style=\"text-align: right;\">\n",
       "      <th></th>\n",
       "      <th>id</th>\n",
       "      <th>name</th>\n",
       "      <th>goal</th>\n",
       "      <th>pledged</th>\n",
       "      <th>state</th>\n",
       "      <th>disable_communication</th>\n",
       "      <th>country</th>\n",
       "      <th>currency</th>\n",
       "      <th>deadline</th>\n",
       "      <th>state_changed_at</th>\n",
       "      <th>...</th>\n",
       "      <th>created_at_day</th>\n",
       "      <th>created_at_yr</th>\n",
       "      <th>created_at_hr</th>\n",
       "      <th>launched_at_month</th>\n",
       "      <th>launched_at_day</th>\n",
       "      <th>launched_at_yr</th>\n",
       "      <th>launched_at_hr</th>\n",
       "      <th>create_to_launch_days</th>\n",
       "      <th>launch_to_deadline_days</th>\n",
       "      <th>launch_to_state_change_days</th>\n",
       "    </tr>\n",
       "  </thead>\n",
       "  <tbody>\n",
       "    <tr>\n",
       "      <th>0</th>\n",
       "      <td>1601563193</td>\n",
       "      <td>Our future</td>\n",
       "      <td>100000000.0</td>\n",
       "      <td>1.00</td>\n",
       "      <td>0</td>\n",
       "      <td>False</td>\n",
       "      <td>AU</td>\n",
       "      <td>AUD</td>\n",
       "      <td>2014-10-07 12:05:39</td>\n",
       "      <td>2014-10-07 12:05:39</td>\n",
       "      <td>...</td>\n",
       "      <td>1</td>\n",
       "      <td>2014</td>\n",
       "      <td>21</td>\n",
       "      <td>8</td>\n",
       "      <td>8</td>\n",
       "      <td>2014</td>\n",
       "      <td>12</td>\n",
       "      <td>6</td>\n",
       "      <td>60</td>\n",
       "      <td>60</td>\n",
       "    </tr>\n",
       "    <tr>\n",
       "      <th>1</th>\n",
       "      <td>880009511</td>\n",
       "      <td>Elite: Dangerous</td>\n",
       "      <td>1250000.0</td>\n",
       "      <td>1578316.08</td>\n",
       "      <td>1</td>\n",
       "      <td>False</td>\n",
       "      <td>GB</td>\n",
       "      <td>GBP</td>\n",
       "      <td>2013-01-04 18:00:57</td>\n",
       "      <td>2013-01-04 18:00:57</td>\n",
       "      <td>...</td>\n",
       "      <td>31</td>\n",
       "      <td>2012</td>\n",
       "      <td>11</td>\n",
       "      <td>11</td>\n",
       "      <td>5</td>\n",
       "      <td>2012</td>\n",
       "      <td>18</td>\n",
       "      <td>5</td>\n",
       "      <td>60</td>\n",
       "      <td>60</td>\n",
       "    </tr>\n",
       "    <tr>\n",
       "      <th>4</th>\n",
       "      <td>557230947</td>\n",
       "      <td>Bring Reading Rainbow Back for Every Child, Ev...</td>\n",
       "      <td>1000000.0</td>\n",
       "      <td>5408916.95</td>\n",
       "      <td>1</td>\n",
       "      <td>False</td>\n",
       "      <td>US</td>\n",
       "      <td>USD</td>\n",
       "      <td>2014-07-02 14:00:00</td>\n",
       "      <td>2014-07-02 14:00:11</td>\n",
       "      <td>...</td>\n",
       "      <td>22</td>\n",
       "      <td>2014</td>\n",
       "      <td>22</td>\n",
       "      <td>5</td>\n",
       "      <td>28</td>\n",
       "      <td>2014</td>\n",
       "      <td>8</td>\n",
       "      <td>35</td>\n",
       "      <td>35</td>\n",
       "      <td>35</td>\n",
       "    </tr>\n",
       "    <tr>\n",
       "      <th>5</th>\n",
       "      <td>1966069095</td>\n",
       "      <td>ARKYD: A Space Telescope for Everyone</td>\n",
       "      <td>1000000.0</td>\n",
       "      <td>1505366.60</td>\n",
       "      <td>1</td>\n",
       "      <td>False</td>\n",
       "      <td>US</td>\n",
       "      <td>USD</td>\n",
       "      <td>2013-06-30 21:00:00</td>\n",
       "      <td>2013-06-30 21:00:34</td>\n",
       "      <td>...</td>\n",
       "      <td>10</td>\n",
       "      <td>2012</td>\n",
       "      <td>17</td>\n",
       "      <td>5</td>\n",
       "      <td>29</td>\n",
       "      <td>2013</td>\n",
       "      <td>10</td>\n",
       "      <td>322</td>\n",
       "      <td>32</td>\n",
       "      <td>32</td>\n",
       "    </tr>\n",
       "    <tr>\n",
       "      <th>6</th>\n",
       "      <td>2083255961</td>\n",
       "      <td>A Billion Pixels...</td>\n",
       "      <td>100000000.0</td>\n",
       "      <td>56.00</td>\n",
       "      <td>0</td>\n",
       "      <td>False</td>\n",
       "      <td>US</td>\n",
       "      <td>USD</td>\n",
       "      <td>2014-08-04 16:39:34</td>\n",
       "      <td>2014-08-04 16:39:34</td>\n",
       "      <td>...</td>\n",
       "      <td>1</td>\n",
       "      <td>2014</td>\n",
       "      <td>16</td>\n",
       "      <td>6</td>\n",
       "      <td>5</td>\n",
       "      <td>2014</td>\n",
       "      <td>16</td>\n",
       "      <td>34</td>\n",
       "      <td>60</td>\n",
       "      <td>60</td>\n",
       "    </tr>\n",
       "  </tbody>\n",
       "</table>\n",
       "<p>5 rows × 45 columns</p>\n",
       "</div>"
      ],
      "text/plain": [
       "           id                                               name         goal  \\\n",
       "0  1601563193                                         Our future  100000000.0   \n",
       "1   880009511                                   Elite: Dangerous    1250000.0   \n",
       "4   557230947  Bring Reading Rainbow Back for Every Child, Ev...    1000000.0   \n",
       "5  1966069095              ARKYD: A Space Telescope for Everyone    1000000.0   \n",
       "6  2083255961                                A Billion Pixels...  100000000.0   \n",
       "\n",
       "      pledged  state  disable_communication country currency  \\\n",
       "0        1.00      0                  False      AU      AUD   \n",
       "1  1578316.08      1                  False      GB      GBP   \n",
       "4  5408916.95      1                  False      US      USD   \n",
       "5  1505366.60      1                  False      US      USD   \n",
       "6       56.00      0                  False      US      USD   \n",
       "\n",
       "             deadline    state_changed_at  ... created_at_day created_at_yr  \\\n",
       "0 2014-10-07 12:05:39 2014-10-07 12:05:39  ...              1          2014   \n",
       "1 2013-01-04 18:00:57 2013-01-04 18:00:57  ...             31          2012   \n",
       "4 2014-07-02 14:00:00 2014-07-02 14:00:11  ...             22          2014   \n",
       "5 2013-06-30 21:00:00 2013-06-30 21:00:34  ...             10          2012   \n",
       "6 2014-08-04 16:39:34 2014-08-04 16:39:34  ...              1          2014   \n",
       "\n",
       "   created_at_hr  launched_at_month  launched_at_day  launched_at_yr  \\\n",
       "0             21                  8                8            2014   \n",
       "1             11                 11                5            2012   \n",
       "4             22                  5               28            2014   \n",
       "5             17                  5               29            2013   \n",
       "6             16                  6                5            2014   \n",
       "\n",
       "  launched_at_hr  create_to_launch_days  launch_to_deadline_days  \\\n",
       "0             12                      6                       60   \n",
       "1             18                      5                       60   \n",
       "4              8                     35                       35   \n",
       "5             10                    322                       32   \n",
       "6             16                     34                       60   \n",
       "\n",
       "   launch_to_state_change_days  \n",
       "0                           60  \n",
       "1                           60  \n",
       "4                           35  \n",
       "5                           32  \n",
       "6                           60  \n",
       "\n",
       "[5 rows x 45 columns]"
      ]
     },
     "execution_count": 77,
     "metadata": {},
     "output_type": "execute_result"
    }
   ],
   "source": [
    "# For the purpose of this project, we only need to include projects with \"successful\" or \"failure\" state\n",
    "df = kickstarter[kickstarter['state'].isin(['successful','failed'])]\n",
    "\n",
    "# Convert the target variable to binary\n",
    "df['state'] = df['state'].replace(['successful','failed'],[1,0])\n",
    "\n",
    "df.head()"
   ]
  },
  {
   "cell_type": "markdown",
   "metadata": {},
   "source": [
    "# 1. Data Preprocessing"
   ]
  },
  {
   "cell_type": "code",
   "execution_count": 78,
   "metadata": {},
   "outputs": [
    {
     "data": {
      "text/plain": [
       "id                                      int64\n",
       "name                                   object\n",
       "goal                                  float64\n",
       "pledged                               float64\n",
       "state                                   int64\n",
       "disable_communication                    bool\n",
       "country                                object\n",
       "currency                               object\n",
       "deadline                       datetime64[ns]\n",
       "state_changed_at               datetime64[ns]\n",
       "created_at                     datetime64[ns]\n",
       "launched_at                    datetime64[ns]\n",
       "staff_pick                               bool\n",
       "backers_count                           int64\n",
       "static_usd_rate                       float64\n",
       "usd_pledged                           float64\n",
       "category                               object\n",
       "spotlight                                bool\n",
       "name_len                              float64\n",
       "name_len_clean                        float64\n",
       "blurb_len                             float64\n",
       "blurb_len_clean                       float64\n",
       "deadline_weekday                       object\n",
       "state_changed_at_weekday               object\n",
       "created_at_weekday                     object\n",
       "launched_at_weekday                    object\n",
       "deadline_month                          int64\n",
       "deadline_day                            int64\n",
       "deadline_yr                             int64\n",
       "deadline_hr                             int64\n",
       "state_changed_at_month                  int64\n",
       "state_changed_at_day                    int64\n",
       "state_changed_at_yr                     int64\n",
       "state_changed_at_hr                     int64\n",
       "created_at_month                        int64\n",
       "created_at_day                          int64\n",
       "created_at_yr                           int64\n",
       "created_at_hr                           int64\n",
       "launched_at_month                       int64\n",
       "launched_at_day                         int64\n",
       "launched_at_yr                          int64\n",
       "launched_at_hr                          int64\n",
       "create_to_launch_days                   int64\n",
       "launch_to_deadline_days                 int64\n",
       "launch_to_state_change_days             int64\n",
       "dtype: object"
      ]
     },
     "execution_count": 78,
     "metadata": {},
     "output_type": "execute_result"
    }
   ],
   "source": [
    "# Understand the data type of each column\n",
    "df.dtypes"
   ]
  },
  {
   "cell_type": "markdown",
   "metadata": {},
   "source": [
    "Clustering algorithms do not work well with categorical variable (either binary or multi-class), especially K-Means.\n",
    "\n",
    "We should consider removing all categorical variables. (Note: day, month, year are also considered categorical)"
   ]
  },
  {
   "cell_type": "code",
   "execution_count": 80,
   "metadata": {},
   "outputs": [
    {
     "data": {
      "text/plain": [
       "Index(['goal', 'pledged', 'static_usd_rate', 'usd_pledged', 'name_len',\n",
       "       'name_len_clean', 'blurb_len', 'blurb_len_clean'],\n",
       "      dtype='object')"
      ]
     },
     "execution_count": 80,
     "metadata": {},
     "output_type": "execute_result"
    }
   ],
   "source": [
    "# Select only numeric values\n",
    "numerics = ['float16', 'float32', 'float64'] #In this dataset, only float are numeric; int are dateTime values\n",
    "\n",
    "df = df.select_dtypes(include=numerics)\n",
    "df.columns"
   ]
  },
  {
   "cell_type": "markdown",
   "metadata": {},
   "source": [
    "Check if there is any collinearity between variables"
   ]
  },
  {
   "cell_type": "code",
   "execution_count": 81,
   "metadata": {},
   "outputs": [
    {
     "data": {
      "image/png": "[encoded data removed]",
      "text/plain": [
       "<Figure size 2600x600 with 2 Axes>"
      ]
     },
     "metadata": {},
     "output_type": "display_data"
    }
   ],
   "source": [
    "import seaborn as sns\n",
    "import matplotlib.pyplot as plt\n",
    "\n",
    "plt.figure(figsize=(26, 6))\n",
    "heatmap = sns.heatmap(df.corr(), vmin=-1, vmax=1, annot=True, cmap='BrBG')\n",
    "heatmap.set_title('Correlation Heatmap', fontdict={'fontsize':18}, pad=12);\n",
    "plt.savefig('heatmap_clustering.png', dpi=300, bbox_inches='tight')"
   ]
  },
  {
   "cell_type": "markdown",
   "metadata": {},
   "source": [
    "According to the correlation heatmap, following varaibles have high correlation:\n",
    "- usd_pledged and pledged,\n",
    "- name_len and name_len_clean, \n",
    "- blurb_len and blurb_len_clean,\n",
    "\n",
    "For each pair, we only need to keep one of them."
   ]
  },
  {
   "cell_type": "code",
   "execution_count": 82,
   "metadata": {},
   "outputs": [
    {
     "data": {
      "text/plain": [
       "Index(['goal', 'pledged', 'static_usd_rate', 'name_len', 'blurb_len'], dtype='object')"
      ]
     },
     "execution_count": 82,
     "metadata": {},
     "output_type": "execute_result"
    }
   ],
   "source": [
    "df = df.drop(columns = ['usd_pledged','name_len_clean','blurb_len_clean'])\n",
    "df.columns"
   ]
  },
  {
   "cell_type": "markdown",
   "metadata": {},
   "source": [
    "# 2. K-Means Clustering"
   ]
  },
  {
   "cell_type": "code",
   "execution_count": 83,
   "metadata": {},
   "outputs": [],
   "source": [
    "X = df\n",
    "\n",
    "from sklearn.preprocessing import StandardScaler\n",
    "scaler = StandardScaler()\n",
    "X_std = scaler.fit_transform(X)"
   ]
  },
  {
   "cell_type": "code",
   "execution_count": 84,
   "metadata": {},
   "outputs": [
    {
     "name": "stdout",
     "output_type": "stream",
     "text": [
      "0 6143\n",
      "1 1707\n",
      "2 5527\n",
      "3 53\n",
      "4 5\n"
     ]
    }
   ],
   "source": [
    "from sklearn.cluster import KMeans\n",
    "\n",
    "K = 5\n",
    "kmeans = KMeans(n_clusters=K)\n",
    "model = kmeans.fit(X_std)\n",
    "labels = model.predict(X_std)\n",
    "\n",
    "for i in range(K):\n",
    "    print(i, (labels == i).sum())"
   ]
  },
  {
   "cell_type": "markdown",
   "metadata": {},
   "source": [
    "## 2.1 Find the optimal K"
   ]
  },
  {
   "cell_type": "code",
   "execution_count": null,
   "metadata": {},
   "outputs": [],
   "source": []
  },
  {
   "cell_type": "markdown",
   "metadata": {},
   "source": [
    "# 3. Agglomerative Approach"
   ]
  },
  {
   "cell_type": "code",
   "execution_count": 71,
   "metadata": {},
   "outputs": [
    {
     "name": "stdout",
     "output_type": "stream",
     "text": [
      "0 13434\n",
      "1 1\n"
     ]
    }
   ],
   "source": [
    "from sklearn.cluster import AgglomerativeClustering\n",
    "\n",
    "K = 2\n",
    "cluster = AgglomerativeClustering(n_clusters=K,affinity='euclidean',linkage='complete')\n",
    "cluster.fit_predict(X_std)\n",
    "labels = cluster.labels_\n",
    "\n",
    "for i in range(K):\n",
    "    print(i, (cluster.labels_ == i).sum())\n"
   ]
  },
  {
   "cell_type": "code",
   "execution_count": 61,
   "metadata": {},
   "outputs": [],
   "source": []
  },
  {
   "cell_type": "code",
   "execution_count": null,
   "metadata": {},
   "outputs": [],
   "source": []
  },
  {
   "cell_type": "code",
   "execution_count": null,
   "metadata": {},
   "outputs": [],
   "source": []
  },
  {
   "cell_type": "code",
   "execution_count": null,
   "metadata": {},
   "outputs": [],
   "source": []
  },
  {
   "cell_type": "code",
   "execution_count": null,
   "metadata": {},
   "outputs": [],
   "source": []
  },
  {
   "cell_type": "code",
   "execution_count": null,
   "metadata": {},
   "outputs": [],
   "source": []
  },
  {
   "cell_type": "code",
   "execution_count": null,
   "metadata": {},
   "outputs": [],
   "source": []
  },
  {
   "cell_type": "markdown",
   "metadata": {},
   "source": [
    "# 3. Clusters Measurement"
   ]
  },
  {
   "cell_type": "markdown",
   "metadata": {},
   "source": [
    "## 3.1 Slihouette Method"
   ]
  },
  {
   "cell_type": "code",
   "execution_count": 62,
   "metadata": {},
   "outputs": [
    {
     "data": {
      "text/html": [
       "<div>\n",
       "<style scoped>\n",
       "    .dataframe tbody tr th:only-of-type {\n",
       "        vertical-align: middle;\n",
       "    }\n",
       "\n",
       "    .dataframe tbody tr th {\n",
       "        vertical-align: top;\n",
       "    }\n",
       "\n",
       "    .dataframe thead th {\n",
       "        text-align: right;\n",
       "    }\n",
       "</style>\n",
       "<table border=\"1\" class=\"dataframe\">\n",
       "  <thead>\n",
       "    <tr style=\"text-align: right;\">\n",
       "      <th></th>\n",
       "      <th>goal</th>\n",
       "      <th>pledged</th>\n",
       "      <th>state</th>\n",
       "      <th>backers_count</th>\n",
       "      <th>static_usd_rate</th>\n",
       "      <th>name_len</th>\n",
       "      <th>blurb_len</th>\n",
       "      <th>clusters</th>\n",
       "      <th>lables</th>\n",
       "      <th>silhouette</th>\n",
       "    </tr>\n",
       "  </thead>\n",
       "  <tbody>\n",
       "    <tr>\n",
       "      <th>0</th>\n",
       "      <td>100000000.0</td>\n",
       "      <td>1.00</td>\n",
       "      <td>0</td>\n",
       "      <td>1</td>\n",
       "      <td>0.928942</td>\n",
       "      <td>2.0</td>\n",
       "      <td>24.0</td>\n",
       "      <td>8</td>\n",
       "      <td>2</td>\n",
       "      <td>0.001967</td>\n",
       "    </tr>\n",
       "    <tr>\n",
       "      <th>1</th>\n",
       "      <td>1250000.0</td>\n",
       "      <td>1578316.08</td>\n",
       "      <td>1</td>\n",
       "      <td>25681</td>\n",
       "      <td>1.602618</td>\n",
       "      <td>2.0</td>\n",
       "      <td>22.0</td>\n",
       "      <td>5</td>\n",
       "      <td>0</td>\n",
       "      <td>0.016150</td>\n",
       "    </tr>\n",
       "    <tr>\n",
       "      <th>4</th>\n",
       "      <td>1000000.0</td>\n",
       "      <td>5408916.95</td>\n",
       "      <td>1</td>\n",
       "      <td>105857</td>\n",
       "      <td>1.000000</td>\n",
       "      <td>8.0</td>\n",
       "      <td>22.0</td>\n",
       "      <td>7</td>\n",
       "      <td>0</td>\n",
       "      <td>0.006545</td>\n",
       "    </tr>\n",
       "    <tr>\n",
       "      <th>5</th>\n",
       "      <td>1000000.0</td>\n",
       "      <td>1505366.60</td>\n",
       "      <td>1</td>\n",
       "      <td>17614</td>\n",
       "      <td>1.000000</td>\n",
       "      <td>6.0</td>\n",
       "      <td>19.0</td>\n",
       "      <td>5</td>\n",
       "      <td>0</td>\n",
       "      <td>0.039464</td>\n",
       "    </tr>\n",
       "    <tr>\n",
       "      <th>6</th>\n",
       "      <td>100000000.0</td>\n",
       "      <td>56.00</td>\n",
       "      <td>0</td>\n",
       "      <td>6</td>\n",
       "      <td>1.000000</td>\n",
       "      <td>3.0</td>\n",
       "      <td>17.0</td>\n",
       "      <td>8</td>\n",
       "      <td>2</td>\n",
       "      <td>0.001810</td>\n",
       "    </tr>\n",
       "  </tbody>\n",
       "</table>\n",
       "</div>"
      ],
      "text/plain": [
       "          goal     pledged  state  backers_count  static_usd_rate  name_len  \\\n",
       "0  100000000.0        1.00      0              1         0.928942       2.0   \n",
       "1    1250000.0  1578316.08      1          25681         1.602618       2.0   \n",
       "4    1000000.0  5408916.95      1         105857         1.000000       8.0   \n",
       "5    1000000.0  1505366.60      1          17614         1.000000       6.0   \n",
       "6  100000000.0       56.00      0              6         1.000000       3.0   \n",
       "\n",
       "   blurb_len  clusters  lables  silhouette  \n",
       "0       24.0         8       2    0.001967  \n",
       "1       22.0         5       0    0.016150  \n",
       "4       22.0         7       0    0.006545  \n",
       "5       19.0         5       0    0.039464  \n",
       "6       17.0         8       2    0.001810  "
      ]
     },
     "execution_count": 62,
     "metadata": {},
     "output_type": "execute_result"
    }
   ],
   "source": [
    "from sklearn.metrics import silhouette_samples\n",
    "silhouette = silhouette_samples(X_std, labels)\n",
    "silhouette # silhouette score for each indiviual data points\n",
    "           # > 0.5 is strong\n",
    "\n",
    "df['lables'] = labels\n",
    "df['silhouette'] = silhouette\n",
    "\n",
    "df.head()"
   ]
  },
  {
   "cell_type": "code",
   "execution_count": 63,
   "metadata": {},
   "outputs": [
    {
     "name": "stdout",
     "output_type": "stream",
     "text": [
      "Average Silhouette Score for Cluster 1: 0.021564689994062775\n",
      "Average Silhouette Score for Cluster 2: 0.005051928511619625\n",
      "Average Silhouette Score for Cluster 3: 0.020402684897009197\n",
      "Average Silhouette Score for Cluster 4: 0.030380437972008466\n",
      "Average Silhouette Score for Cluster 5: 0.03124305568612328\n"
     ]
    }
   ],
   "source": [
    "for i in range(num_clusters):\n",
    "    print('Average Silhouette Score for Cluster {}:'.format(str(i+1)),\n",
    "    np.average(df[df['clusters'] == i+1].silhouette) )"
   ]
  }
 ],
 "metadata": {
  "kernelspec": {
   "display_name": "Python 3.10.8 64-bit (microsoft store)",
   "language": "python",
   "name": "python3"
  },
  "language_info": {
   "codemirror_mode": {
    "name": "ipython",
    "version": 3
   },
   "file_extension": ".py",
   "mimetype": "text/x-python",
   "name": "python",
   "nbconvert_exporter": "python",
   "pygments_lexer": "ipython3",
   "version": "3.10.8"
  },
  "orig_nbformat": 4,
  "vscode": {
   "interpreter": {
    "hash": "eb8d3085d426e5e8dee3252ffbadecffc2a8c816985f9d79249a1de42c265c0a"
   }
  }
 },
 "nbformat": 4,
 "nbformat_minor": 2
}
